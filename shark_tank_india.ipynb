{
  "nbformat": 4,
  "nbformat_minor": 0,
  "metadata": {
    "colab": {
      "name": "shark-tank india.ipynb",
      "provenance": [],
      "collapsed_sections": [],
      "authorship_tag": "ABX9TyOGOcx9WNipAEMbpJD5XG0r",
      "include_colab_link": true
    },
    "kernelspec": {
      "name": "python3",
      "display_name": "Python 3"
    },
    "language_info": {
      "name": "python"
    }
  },
  "cells": [
    {
      "cell_type": "markdown",
      "metadata": {
        "id": "view-in-github",
        "colab_type": "text"
      },
      "source": [
        "<a href=\"https://colab.research.google.com/github/Ava100rav/shark-tank-india/blob/main/shark_tank_india.ipynb\" target=\"_parent\"><img src=\"https://colab.research.google.com/assets/colab-badge.svg\" alt=\"Open In Colab\"/></a>"
      ]
    },
    {
      "cell_type": "code",
      "execution_count": null,
      "metadata": {
        "id": "lDEuFMFYN81r"
      },
      "outputs": [],
      "source": [
        "from google.colab import drive"
      ]
    },
    {
      "cell_type": "code",
      "source": [
        "drive.mount('/content/drive')"
      ],
      "metadata": {
        "colab": {
          "base_uri": "https://localhost:8080/"
        },
        "id": "rEN-DUCdOACq",
        "outputId": "e09cfe72-65f8-4858-bdee-2bae2b6d17a0"
      },
      "execution_count": null,
      "outputs": [
        {
          "output_type": "stream",
          "name": "stdout",
          "text": [
            "Drive already mounted at /content/drive; to attempt to forcibly remount, call drive.mount(\"/content/drive\", force_remount=True).\n"
          ]
        }
      ]
    },
    {
      "cell_type": "code",
      "source": [
        "import numpy as np\n",
        "import pandas as pd\n",
        "import seaborn as sns\n",
        "import matplotlib.pyplot as plt   \n",
        "import matplotlib.style "
      ],
      "metadata": {
        "id": "4V5YaC4OOINb"
      },
      "execution_count": null,
      "outputs": []
    },
    {
      "cell_type": "code",
      "source": [
        "pd.set_option('display.max_columns',None)\n",
        "pd.set_option('display.max_rows',None)"
      ],
      "metadata": {
        "id": "A6vcm98VOnjk"
      },
      "execution_count": null,
      "outputs": []
    },
    {
      "cell_type": "code",
      "source": [
        "df=pd.read_csv('/content/drive/MyDrive/shark-tank-india/Shark-Tank-India-Dataset.csv')\n",
        "df.head(2)"
      ],
      "metadata": {
        "colab": {
          "base_uri": "https://localhost:8080/",
          "height": 297
        },
        "id": "Wzgb0f9vOPFm",
        "outputId": "106ad60b-3d14-4756-dbf7-febdbe8a947f"
      },
      "execution_count": null,
      "outputs": [
        {
          "output_type": "execute_result",
          "data": {
            "text/plain": [
              "   episode_number  pitch_number           brand_name  \\\n",
              "0               1             1  BluePine Industries   \n",
              "1               1             2        Booz scooters   \n",
              "\n",
              "                                            idea  deal  pitcher_ask_amount  \\\n",
              "0                                   Frozen Momos     1                50.0   \n",
              "1  Renting e-bike for mobility in private spaces     1                40.0   \n",
              "\n",
              "   ask_equity  ask_valuation  deal_amount  deal_equity  deal_valuation  \\\n",
              "0         5.0        1000.00         75.0         16.0          468.75   \n",
              "1        15.0         266.67         40.0         50.0           80.00   \n",
              "\n",
              "   ashneer_present  anupam_present  aman_present  namita_present  \\\n",
              "0                1               1             1               1   \n",
              "1                1               1             1               1   \n",
              "\n",
              "   vineeta_present  peyush_present  ghazal_present  ashneer_deal  anupam_deal  \\\n",
              "0                1               0               0             1            0   \n",
              "1                1               0               0             1            0   \n",
              "\n",
              "   aman_deal  namita_deal  vineeta_deal  peyush_deal  ghazal_deal  \\\n",
              "0          1            0             1            0            0   \n",
              "1          0            0             1            0            0   \n",
              "\n",
              "   total_sharks_invested  amount_per_shark  equity_per_shark  \n",
              "0                      3              25.0          5.333333  \n",
              "1                      2              20.0         25.000000  "
            ],
            "text/html": [
              "\n",
              "  <div id=\"df-35ff0c7e-2d2a-41d3-a491-8fb46f10efa2\">\n",
              "    <div class=\"colab-df-container\">\n",
              "      <div>\n",
              "<style scoped>\n",
              "    .dataframe tbody tr th:only-of-type {\n",
              "        vertical-align: middle;\n",
              "    }\n",
              "\n",
              "    .dataframe tbody tr th {\n",
              "        vertical-align: top;\n",
              "    }\n",
              "\n",
              "    .dataframe thead th {\n",
              "        text-align: right;\n",
              "    }\n",
              "</style>\n",
              "<table border=\"1\" class=\"dataframe\">\n",
              "  <thead>\n",
              "    <tr style=\"text-align: right;\">\n",
              "      <th></th>\n",
              "      <th>episode_number</th>\n",
              "      <th>pitch_number</th>\n",
              "      <th>brand_name</th>\n",
              "      <th>idea</th>\n",
              "      <th>deal</th>\n",
              "      <th>pitcher_ask_amount</th>\n",
              "      <th>ask_equity</th>\n",
              "      <th>ask_valuation</th>\n",
              "      <th>deal_amount</th>\n",
              "      <th>deal_equity</th>\n",
              "      <th>deal_valuation</th>\n",
              "      <th>ashneer_present</th>\n",
              "      <th>anupam_present</th>\n",
              "      <th>aman_present</th>\n",
              "      <th>namita_present</th>\n",
              "      <th>vineeta_present</th>\n",
              "      <th>peyush_present</th>\n",
              "      <th>ghazal_present</th>\n",
              "      <th>ashneer_deal</th>\n",
              "      <th>anupam_deal</th>\n",
              "      <th>aman_deal</th>\n",
              "      <th>namita_deal</th>\n",
              "      <th>vineeta_deal</th>\n",
              "      <th>peyush_deal</th>\n",
              "      <th>ghazal_deal</th>\n",
              "      <th>total_sharks_invested</th>\n",
              "      <th>amount_per_shark</th>\n",
              "      <th>equity_per_shark</th>\n",
              "    </tr>\n",
              "  </thead>\n",
              "  <tbody>\n",
              "    <tr>\n",
              "      <th>0</th>\n",
              "      <td>1</td>\n",
              "      <td>1</td>\n",
              "      <td>BluePine Industries</td>\n",
              "      <td>Frozen Momos</td>\n",
              "      <td>1</td>\n",
              "      <td>50.0</td>\n",
              "      <td>5.0</td>\n",
              "      <td>1000.00</td>\n",
              "      <td>75.0</td>\n",
              "      <td>16.0</td>\n",
              "      <td>468.75</td>\n",
              "      <td>1</td>\n",
              "      <td>1</td>\n",
              "      <td>1</td>\n",
              "      <td>1</td>\n",
              "      <td>1</td>\n",
              "      <td>0</td>\n",
              "      <td>0</td>\n",
              "      <td>1</td>\n",
              "      <td>0</td>\n",
              "      <td>1</td>\n",
              "      <td>0</td>\n",
              "      <td>1</td>\n",
              "      <td>0</td>\n",
              "      <td>0</td>\n",
              "      <td>3</td>\n",
              "      <td>25.0</td>\n",
              "      <td>5.333333</td>\n",
              "    </tr>\n",
              "    <tr>\n",
              "      <th>1</th>\n",
              "      <td>1</td>\n",
              "      <td>2</td>\n",
              "      <td>Booz scooters</td>\n",
              "      <td>Renting e-bike for mobility in private spaces</td>\n",
              "      <td>1</td>\n",
              "      <td>40.0</td>\n",
              "      <td>15.0</td>\n",
              "      <td>266.67</td>\n",
              "      <td>40.0</td>\n",
              "      <td>50.0</td>\n",
              "      <td>80.00</td>\n",
              "      <td>1</td>\n",
              "      <td>1</td>\n",
              "      <td>1</td>\n",
              "      <td>1</td>\n",
              "      <td>1</td>\n",
              "      <td>0</td>\n",
              "      <td>0</td>\n",
              "      <td>1</td>\n",
              "      <td>0</td>\n",
              "      <td>0</td>\n",
              "      <td>0</td>\n",
              "      <td>1</td>\n",
              "      <td>0</td>\n",
              "      <td>0</td>\n",
              "      <td>2</td>\n",
              "      <td>20.0</td>\n",
              "      <td>25.000000</td>\n",
              "    </tr>\n",
              "  </tbody>\n",
              "</table>\n",
              "</div>\n",
              "      <button class=\"colab-df-convert\" onclick=\"convertToInteractive('df-35ff0c7e-2d2a-41d3-a491-8fb46f10efa2')\"\n",
              "              title=\"Convert this dataframe to an interactive table.\"\n",
              "              style=\"display:none;\">\n",
              "        \n",
              "  <svg xmlns=\"http://www.w3.org/2000/svg\" height=\"24px\"viewBox=\"0 0 24 24\"\n",
              "       width=\"24px\">\n",
              "    <path d=\"M0 0h24v24H0V0z\" fill=\"none\"/>\n",
              "    <path d=\"M18.56 5.44l.94 2.06.94-2.06 2.06-.94-2.06-.94-.94-2.06-.94 2.06-2.06.94zm-11 1L8.5 8.5l.94-2.06 2.06-.94-2.06-.94L8.5 2.5l-.94 2.06-2.06.94zm10 10l.94 2.06.94-2.06 2.06-.94-2.06-.94-.94-2.06-.94 2.06-2.06.94z\"/><path d=\"M17.41 7.96l-1.37-1.37c-.4-.4-.92-.59-1.43-.59-.52 0-1.04.2-1.43.59L10.3 9.45l-7.72 7.72c-.78.78-.78 2.05 0 2.83L4 21.41c.39.39.9.59 1.41.59.51 0 1.02-.2 1.41-.59l7.78-7.78 2.81-2.81c.8-.78.8-2.07 0-2.86zM5.41 20L4 18.59l7.72-7.72 1.47 1.35L5.41 20z\"/>\n",
              "  </svg>\n",
              "      </button>\n",
              "      \n",
              "  <style>\n",
              "    .colab-df-container {\n",
              "      display:flex;\n",
              "      flex-wrap:wrap;\n",
              "      gap: 12px;\n",
              "    }\n",
              "\n",
              "    .colab-df-convert {\n",
              "      background-color: #E8F0FE;\n",
              "      border: none;\n",
              "      border-radius: 50%;\n",
              "      cursor: pointer;\n",
              "      display: none;\n",
              "      fill: #1967D2;\n",
              "      height: 32px;\n",
              "      padding: 0 0 0 0;\n",
              "      width: 32px;\n",
              "    }\n",
              "\n",
              "    .colab-df-convert:hover {\n",
              "      background-color: #E2EBFA;\n",
              "      box-shadow: 0px 1px 2px rgba(60, 64, 67, 0.3), 0px 1px 3px 1px rgba(60, 64, 67, 0.15);\n",
              "      fill: #174EA6;\n",
              "    }\n",
              "\n",
              "    [theme=dark] .colab-df-convert {\n",
              "      background-color: #3B4455;\n",
              "      fill: #D2E3FC;\n",
              "    }\n",
              "\n",
              "    [theme=dark] .colab-df-convert:hover {\n",
              "      background-color: #434B5C;\n",
              "      box-shadow: 0px 1px 3px 1px rgba(0, 0, 0, 0.15);\n",
              "      filter: drop-shadow(0px 1px 2px rgba(0, 0, 0, 0.3));\n",
              "      fill: #FFFFFF;\n",
              "    }\n",
              "  </style>\n",
              "\n",
              "      <script>\n",
              "        const buttonEl =\n",
              "          document.querySelector('#df-35ff0c7e-2d2a-41d3-a491-8fb46f10efa2 button.colab-df-convert');\n",
              "        buttonEl.style.display =\n",
              "          google.colab.kernel.accessAllowed ? 'block' : 'none';\n",
              "\n",
              "        async function convertToInteractive(key) {\n",
              "          const element = document.querySelector('#df-35ff0c7e-2d2a-41d3-a491-8fb46f10efa2');\n",
              "          const dataTable =\n",
              "            await google.colab.kernel.invokeFunction('convertToInteractive',\n",
              "                                                     [key], {});\n",
              "          if (!dataTable) return;\n",
              "\n",
              "          const docLinkHtml = 'Like what you see? Visit the ' +\n",
              "            '<a target=\"_blank\" href=https://colab.research.google.com/notebooks/data_table.ipynb>data table notebook</a>'\n",
              "            + ' to learn more about interactive tables.';\n",
              "          element.innerHTML = '';\n",
              "          dataTable['output_type'] = 'display_data';\n",
              "          await google.colab.output.renderOutput(dataTable, element);\n",
              "          const docLink = document.createElement('div');\n",
              "          docLink.innerHTML = docLinkHtml;\n",
              "          element.appendChild(docLink);\n",
              "        }\n",
              "      </script>\n",
              "    </div>\n",
              "  </div>\n",
              "  "
            ]
          },
          "metadata": {},
          "execution_count": 12
        }
      ]
    },
    {
      "cell_type": "code",
      "source": [
        "df.tail(2)"
      ],
      "metadata": {
        "colab": {
          "base_uri": "https://localhost:8080/",
          "height": 211
        },
        "id": "zCdP8exSRdvJ",
        "outputId": "16410b61-21bd-4aa6-f487-d9c7efae4738"
      },
      "execution_count": null,
      "outputs": [
        {
          "output_type": "execute_result",
          "data": {
            "text/plain": [
              "     episode_number  pitch_number    brand_name                  idea  deal  \\\n",
              "115              35           116         Woloo       Washroom Finder     0   \n",
              "116              35           117  Elcare India  Carenting for Elders     0   \n",
              "\n",
              "     pitcher_ask_amount  ask_equity  ask_valuation  deal_amount  deal_equity  \\\n",
              "115                50.0         4.0         1250.0          0.0          0.0   \n",
              "116               100.0         2.5         4000.0          0.0          0.0   \n",
              "\n",
              "     deal_valuation  ashneer_present  anupam_present  aman_present  \\\n",
              "115             0.0                1               1             1   \n",
              "116             0.0                1               1             1   \n",
              "\n",
              "     namita_present  vineeta_present  peyush_present  ghazal_present  \\\n",
              "115               1                1               1               1   \n",
              "116               1                1               1               1   \n",
              "\n",
              "     ashneer_deal  anupam_deal  aman_deal  namita_deal  vineeta_deal  \\\n",
              "115             0            0          0            0             0   \n",
              "116             0            0          0            0             0   \n",
              "\n",
              "     peyush_deal  ghazal_deal  total_sharks_invested  amount_per_shark  \\\n",
              "115            0            0                      0               0.0   \n",
              "116            0            0                      0               0.0   \n",
              "\n",
              "     equity_per_shark  \n",
              "115               0.0  \n",
              "116               0.0  "
            ],
            "text/html": [
              "\n",
              "  <div id=\"df-3b606884-774e-4b20-ba18-758c02f318ea\">\n",
              "    <div class=\"colab-df-container\">\n",
              "      <div>\n",
              "<style scoped>\n",
              "    .dataframe tbody tr th:only-of-type {\n",
              "        vertical-align: middle;\n",
              "    }\n",
              "\n",
              "    .dataframe tbody tr th {\n",
              "        vertical-align: top;\n",
              "    }\n",
              "\n",
              "    .dataframe thead th {\n",
              "        text-align: right;\n",
              "    }\n",
              "</style>\n",
              "<table border=\"1\" class=\"dataframe\">\n",
              "  <thead>\n",
              "    <tr style=\"text-align: right;\">\n",
              "      <th></th>\n",
              "      <th>episode_number</th>\n",
              "      <th>pitch_number</th>\n",
              "      <th>brand_name</th>\n",
              "      <th>idea</th>\n",
              "      <th>deal</th>\n",
              "      <th>pitcher_ask_amount</th>\n",
              "      <th>ask_equity</th>\n",
              "      <th>ask_valuation</th>\n",
              "      <th>deal_amount</th>\n",
              "      <th>deal_equity</th>\n",
              "      <th>deal_valuation</th>\n",
              "      <th>ashneer_present</th>\n",
              "      <th>anupam_present</th>\n",
              "      <th>aman_present</th>\n",
              "      <th>namita_present</th>\n",
              "      <th>vineeta_present</th>\n",
              "      <th>peyush_present</th>\n",
              "      <th>ghazal_present</th>\n",
              "      <th>ashneer_deal</th>\n",
              "      <th>anupam_deal</th>\n",
              "      <th>aman_deal</th>\n",
              "      <th>namita_deal</th>\n",
              "      <th>vineeta_deal</th>\n",
              "      <th>peyush_deal</th>\n",
              "      <th>ghazal_deal</th>\n",
              "      <th>total_sharks_invested</th>\n",
              "      <th>amount_per_shark</th>\n",
              "      <th>equity_per_shark</th>\n",
              "    </tr>\n",
              "  </thead>\n",
              "  <tbody>\n",
              "    <tr>\n",
              "      <th>115</th>\n",
              "      <td>35</td>\n",
              "      <td>116</td>\n",
              "      <td>Woloo</td>\n",
              "      <td>Washroom Finder</td>\n",
              "      <td>0</td>\n",
              "      <td>50.0</td>\n",
              "      <td>4.0</td>\n",
              "      <td>1250.0</td>\n",
              "      <td>0.0</td>\n",
              "      <td>0.0</td>\n",
              "      <td>0.0</td>\n",
              "      <td>1</td>\n",
              "      <td>1</td>\n",
              "      <td>1</td>\n",
              "      <td>1</td>\n",
              "      <td>1</td>\n",
              "      <td>1</td>\n",
              "      <td>1</td>\n",
              "      <td>0</td>\n",
              "      <td>0</td>\n",
              "      <td>0</td>\n",
              "      <td>0</td>\n",
              "      <td>0</td>\n",
              "      <td>0</td>\n",
              "      <td>0</td>\n",
              "      <td>0</td>\n",
              "      <td>0.0</td>\n",
              "      <td>0.0</td>\n",
              "    </tr>\n",
              "    <tr>\n",
              "      <th>116</th>\n",
              "      <td>35</td>\n",
              "      <td>117</td>\n",
              "      <td>Elcare India</td>\n",
              "      <td>Carenting for Elders</td>\n",
              "      <td>0</td>\n",
              "      <td>100.0</td>\n",
              "      <td>2.5</td>\n",
              "      <td>4000.0</td>\n",
              "      <td>0.0</td>\n",
              "      <td>0.0</td>\n",
              "      <td>0.0</td>\n",
              "      <td>1</td>\n",
              "      <td>1</td>\n",
              "      <td>1</td>\n",
              "      <td>1</td>\n",
              "      <td>1</td>\n",
              "      <td>1</td>\n",
              "      <td>1</td>\n",
              "      <td>0</td>\n",
              "      <td>0</td>\n",
              "      <td>0</td>\n",
              "      <td>0</td>\n",
              "      <td>0</td>\n",
              "      <td>0</td>\n",
              "      <td>0</td>\n",
              "      <td>0</td>\n",
              "      <td>0.0</td>\n",
              "      <td>0.0</td>\n",
              "    </tr>\n",
              "  </tbody>\n",
              "</table>\n",
              "</div>\n",
              "      <button class=\"colab-df-convert\" onclick=\"convertToInteractive('df-3b606884-774e-4b20-ba18-758c02f318ea')\"\n",
              "              title=\"Convert this dataframe to an interactive table.\"\n",
              "              style=\"display:none;\">\n",
              "        \n",
              "  <svg xmlns=\"http://www.w3.org/2000/svg\" height=\"24px\"viewBox=\"0 0 24 24\"\n",
              "       width=\"24px\">\n",
              "    <path d=\"M0 0h24v24H0V0z\" fill=\"none\"/>\n",
              "    <path d=\"M18.56 5.44l.94 2.06.94-2.06 2.06-.94-2.06-.94-.94-2.06-.94 2.06-2.06.94zm-11 1L8.5 8.5l.94-2.06 2.06-.94-2.06-.94L8.5 2.5l-.94 2.06-2.06.94zm10 10l.94 2.06.94-2.06 2.06-.94-2.06-.94-.94-2.06-.94 2.06-2.06.94z\"/><path d=\"M17.41 7.96l-1.37-1.37c-.4-.4-.92-.59-1.43-.59-.52 0-1.04.2-1.43.59L10.3 9.45l-7.72 7.72c-.78.78-.78 2.05 0 2.83L4 21.41c.39.39.9.59 1.41.59.51 0 1.02-.2 1.41-.59l7.78-7.78 2.81-2.81c.8-.78.8-2.07 0-2.86zM5.41 20L4 18.59l7.72-7.72 1.47 1.35L5.41 20z\"/>\n",
              "  </svg>\n",
              "      </button>\n",
              "      \n",
              "  <style>\n",
              "    .colab-df-container {\n",
              "      display:flex;\n",
              "      flex-wrap:wrap;\n",
              "      gap: 12px;\n",
              "    }\n",
              "\n",
              "    .colab-df-convert {\n",
              "      background-color: #E8F0FE;\n",
              "      border: none;\n",
              "      border-radius: 50%;\n",
              "      cursor: pointer;\n",
              "      display: none;\n",
              "      fill: #1967D2;\n",
              "      height: 32px;\n",
              "      padding: 0 0 0 0;\n",
              "      width: 32px;\n",
              "    }\n",
              "\n",
              "    .colab-df-convert:hover {\n",
              "      background-color: #E2EBFA;\n",
              "      box-shadow: 0px 1px 2px rgba(60, 64, 67, 0.3), 0px 1px 3px 1px rgba(60, 64, 67, 0.15);\n",
              "      fill: #174EA6;\n",
              "    }\n",
              "\n",
              "    [theme=dark] .colab-df-convert {\n",
              "      background-color: #3B4455;\n",
              "      fill: #D2E3FC;\n",
              "    }\n",
              "\n",
              "    [theme=dark] .colab-df-convert:hover {\n",
              "      background-color: #434B5C;\n",
              "      box-shadow: 0px 1px 3px 1px rgba(0, 0, 0, 0.15);\n",
              "      filter: drop-shadow(0px 1px 2px rgba(0, 0, 0, 0.3));\n",
              "      fill: #FFFFFF;\n",
              "    }\n",
              "  </style>\n",
              "\n",
              "      <script>\n",
              "        const buttonEl =\n",
              "          document.querySelector('#df-3b606884-774e-4b20-ba18-758c02f318ea button.colab-df-convert');\n",
              "        buttonEl.style.display =\n",
              "          google.colab.kernel.accessAllowed ? 'block' : 'none';\n",
              "\n",
              "        async function convertToInteractive(key) {\n",
              "          const element = document.querySelector('#df-3b606884-774e-4b20-ba18-758c02f318ea');\n",
              "          const dataTable =\n",
              "            await google.colab.kernel.invokeFunction('convertToInteractive',\n",
              "                                                     [key], {});\n",
              "          if (!dataTable) return;\n",
              "\n",
              "          const docLinkHtml = 'Like what you see? Visit the ' +\n",
              "            '<a target=\"_blank\" href=https://colab.research.google.com/notebooks/data_table.ipynb>data table notebook</a>'\n",
              "            + ' to learn more about interactive tables.';\n",
              "          element.innerHTML = '';\n",
              "          dataTable['output_type'] = 'display_data';\n",
              "          await google.colab.output.renderOutput(dataTable, element);\n",
              "          const docLink = document.createElement('div');\n",
              "          docLink.innerHTML = docLinkHtml;\n",
              "          element.appendChild(docLink);\n",
              "        }\n",
              "      </script>\n",
              "    </div>\n",
              "  </div>\n",
              "  "
            ]
          },
          "metadata": {},
          "execution_count": 13
        }
      ]
    },
    {
      "cell_type": "code",
      "source": [
        "df.shape"
      ],
      "metadata": {
        "colab": {
          "base_uri": "https://localhost:8080/"
        },
        "id": "oEElu53wOWsl",
        "outputId": "07d683d0-3cf8-446c-b29c-6c60144ad8bb"
      },
      "execution_count": null,
      "outputs": [
        {
          "output_type": "execute_result",
          "data": {
            "text/plain": [
              "(117, 28)"
            ]
          },
          "metadata": {},
          "execution_count": 14
        }
      ]
    },
    {
      "cell_type": "code",
      "source": [
        "df.columns"
      ],
      "metadata": {
        "colab": {
          "base_uri": "https://localhost:8080/"
        },
        "id": "xu5qolXIOhJk",
        "outputId": "0255c711-dd8f-4178-d6c4-87e7d2e0c0f4"
      },
      "execution_count": null,
      "outputs": [
        {
          "output_type": "execute_result",
          "data": {
            "text/plain": [
              "Index(['episode_number', 'pitch_number', 'brand_name', 'idea', 'deal',\n",
              "       'pitcher_ask_amount', 'ask_equity', 'ask_valuation', 'deal_amount',\n",
              "       'deal_equity', 'deal_valuation', 'ashneer_present', 'anupam_present',\n",
              "       'aman_present', 'namita_present', 'vineeta_present', 'peyush_present',\n",
              "       'ghazal_present', 'ashneer_deal', 'anupam_deal', 'aman_deal',\n",
              "       'namita_deal', 'vineeta_deal', 'peyush_deal', 'ghazal_deal',\n",
              "       'total_sharks_invested', 'amount_per_shark', 'equity_per_shark'],\n",
              "      dtype='object')"
            ]
          },
          "metadata": {},
          "execution_count": 15
        }
      ]
    },
    {
      "cell_type": "code",
      "source": [
        "df.info()"
      ],
      "metadata": {
        "colab": {
          "base_uri": "https://localhost:8080/"
        },
        "id": "O9QxbxhXOjC4",
        "outputId": "8634c09c-8d36-4a1d-9f8a-0ea2e94d6558"
      },
      "execution_count": null,
      "outputs": [
        {
          "output_type": "stream",
          "name": "stdout",
          "text": [
            "<class 'pandas.core.frame.DataFrame'>\n",
            "RangeIndex: 117 entries, 0 to 116\n",
            "Data columns (total 28 columns):\n",
            " #   Column                 Non-Null Count  Dtype  \n",
            "---  ------                 --------------  -----  \n",
            " 0   episode_number         117 non-null    int64  \n",
            " 1   pitch_number           117 non-null    int64  \n",
            " 2   brand_name             117 non-null    object \n",
            " 3   idea                   117 non-null    object \n",
            " 4   deal                   117 non-null    int64  \n",
            " 5   pitcher_ask_amount     117 non-null    float64\n",
            " 6   ask_equity             117 non-null    float64\n",
            " 7   ask_valuation          117 non-null    float64\n",
            " 8   deal_amount            117 non-null    float64\n",
            " 9   deal_equity            117 non-null    float64\n",
            " 10  deal_valuation         117 non-null    float64\n",
            " 11  ashneer_present        117 non-null    int64  \n",
            " 12  anupam_present         117 non-null    int64  \n",
            " 13  aman_present           117 non-null    int64  \n",
            " 14  namita_present         117 non-null    int64  \n",
            " 15  vineeta_present        117 non-null    int64  \n",
            " 16  peyush_present         117 non-null    int64  \n",
            " 17  ghazal_present         117 non-null    int64  \n",
            " 18  ashneer_deal           117 non-null    int64  \n",
            " 19  anupam_deal            117 non-null    int64  \n",
            " 20  aman_deal              117 non-null    int64  \n",
            " 21  namita_deal            117 non-null    int64  \n",
            " 22  vineeta_deal           117 non-null    int64  \n",
            " 23  peyush_deal            117 non-null    int64  \n",
            " 24  ghazal_deal            117 non-null    int64  \n",
            " 25  total_sharks_invested  117 non-null    int64  \n",
            " 26  amount_per_shark       117 non-null    float64\n",
            " 27  equity_per_shark       117 non-null    float64\n",
            "dtypes: float64(8), int64(18), object(2)\n",
            "memory usage: 25.7+ KB\n"
          ]
        }
      ]
    },
    {
      "cell_type": "code",
      "source": [
        "df.isnull().sum()"
      ],
      "metadata": {
        "colab": {
          "base_uri": "https://localhost:8080/"
        },
        "id": "tWFHeKv8OvnC",
        "outputId": "f7c4e176-d044-444f-da8f-7b70e7a532af"
      },
      "execution_count": null,
      "outputs": [
        {
          "output_type": "execute_result",
          "data": {
            "text/plain": [
              "episode_number           0\n",
              "pitch_number             0\n",
              "brand_name               0\n",
              "idea                     0\n",
              "deal                     0\n",
              "pitcher_ask_amount       0\n",
              "ask_equity               0\n",
              "ask_valuation            0\n",
              "deal_amount              0\n",
              "deal_equity              0\n",
              "deal_valuation           0\n",
              "ashneer_present          0\n",
              "anupam_present           0\n",
              "aman_present             0\n",
              "namita_present           0\n",
              "vineeta_present          0\n",
              "peyush_present           0\n",
              "ghazal_present           0\n",
              "ashneer_deal             0\n",
              "anupam_deal              0\n",
              "aman_deal                0\n",
              "namita_deal              0\n",
              "vineeta_deal             0\n",
              "peyush_deal              0\n",
              "ghazal_deal              0\n",
              "total_sharks_invested    0\n",
              "amount_per_shark         0\n",
              "equity_per_shark         0\n",
              "dtype: int64"
            ]
          },
          "metadata": {},
          "execution_count": 17
        }
      ]
    },
    {
      "cell_type": "code",
      "source": [
        "df['deal'].value_counts()"
      ],
      "metadata": {
        "colab": {
          "base_uri": "https://localhost:8080/"
        },
        "id": "QveBlHQpP-8d",
        "outputId": "e75c6eee-983e-4c47-b3cf-c1b7ba68ec4b"
      },
      "execution_count": null,
      "outputs": [
        {
          "output_type": "execute_result",
          "data": {
            "text/plain": [
              "1    65\n",
              "0    52\n",
              "Name: deal, dtype: int64"
            ]
          },
          "metadata": {},
          "execution_count": 18
        }
      ]
    },
    {
      "cell_type": "code",
      "source": [
        "sns.countplot(df['deal'])"
      ],
      "metadata": {
        "colab": {
          "base_uri": "https://localhost:8080/",
          "height": 351
        },
        "id": "NsQevdTpO1Lb",
        "outputId": "a3351ac6-fef3-4246-dd86-25cdcbae65c3"
      },
      "execution_count": null,
      "outputs": [
        {
          "output_type": "stream",
          "name": "stderr",
          "text": [
            "/usr/local/lib/python3.7/dist-packages/seaborn/_decorators.py:43: FutureWarning: Pass the following variable as a keyword arg: x. From version 0.12, the only valid positional argument will be `data`, and passing other arguments without an explicit keyword will result in an error or misinterpretation.\n",
            "  FutureWarning\n"
          ]
        },
        {
          "output_type": "execute_result",
          "data": {
            "text/plain": [
              "<matplotlib.axes._subplots.AxesSubplot at 0x7f99d6f85410>"
            ]
          },
          "metadata": {},
          "execution_count": 19
        },
        {
          "output_type": "display_data",
          "data": {
            "text/plain": [
              "<Figure size 432x288 with 1 Axes>"
            ],
            "image/png": "[encoded data removed]"
          },
          "metadata": {
            "needs_background": "light"
          }
        }
      ]
    },
    {
      "cell_type": "code",
      "source": [
        "df.drop(['episode_number','pitch_number','brand_name'],axis=1,inplace=True)"
      ],
      "metadata": {
        "id": "qhLLJZWTP2l7"
      },
      "execution_count": null,
      "outputs": []
    },
    {
      "cell_type": "code",
      "source": [
        "df.shape"
      ],
      "metadata": {
        "colab": {
          "base_uri": "https://localhost:8080/"
        },
        "id": "s2ZctENNR_pf",
        "outputId": "75be3434-8602-4aca-a4a1-71bca8e91d3c"
      },
      "execution_count": null,
      "outputs": [
        {
          "output_type": "execute_result",
          "data": {
            "text/plain": [
              "(117, 25)"
            ]
          },
          "metadata": {},
          "execution_count": 21
        }
      ]
    },
    {
      "cell_type": "code",
      "source": [
        "df['idea'].unique"
      ],
      "metadata": {
        "colab": {
          "base_uri": "https://localhost:8080/"
        },
        "id": "JVHXrZSHSBQG",
        "outputId": "1ad70a26-eedf-48a1-bab7-64c9ecfefdd5"
      },
      "execution_count": null,
      "outputs": [
        {
          "output_type": "execute_result",
          "data": {
            "text/plain": [
              "<bound method Series.unique of 0                                          Frozen Momos\n",
              "1         Renting e-bike for mobility in private spaces\n",
              "2                                    Detachable Sleeves\n",
              "3                                  Healthy Potato Chips\n",
              "4                              Brain Development Course\n",
              "5                                               Tourism\n",
              "6                               Food Freshness Detector\n",
              "7                                  Disposable Urine Bag\n",
              "8                                          Energy Drink\n",
              "9                                  Intelligent Skincare\n",
              "10                                               Pickle\n",
              "11                                            Underwear\n",
              "12                                               E-Bike\n",
              "13                 Restaurant serving 80 types of Maggi\n",
              "14                                  Belly Button Shaper\n",
              "15                                             Ice-Pops\n",
              "16                            Menstrual Awareness Comic\n",
              "17                           Pollution Resistant Fabric\n",
              "18                                Child Development App\n",
              "19                 Gadgets for visually impaired people\n",
              "20                          Kheer in variety of flavors\n",
              "21                                  Kerala Banana Chips\n",
              "22                   Prickless Diabetes Testing Machine\n",
              "23                            Smart Electric Motorcycle\n",
              "24                                        Smart Helmets\n",
              "25                                          Wooden Toys\n",
              "26                                         Healthy Oils\n",
              "27                                Male Intimate Hygiene\n",
              "28                                                 Eggs\n",
              "29                                Student Community App\n",
              "30                                      Fiber Ice Cream\n",
              "31                                        Wall Building\n",
              "32                                Customised Streetwear\n",
              "33                                   Ayurvedic Products\n",
              "34                                        Indian Sweets\n",
              "35                                        Metaverse App\n",
              "36                              Braille Literary Device\n",
              "37                                   Eco-Friendly boxes\n",
              "38                                     Yarn-Trading App\n",
              "39                              Home Dialysis Treatment\n",
              "40                                  Healthy Food Snacks\n",
              "41                                   Digital Piggy Bank\n",
              "42                                 Smart Audio Products\n",
              "43                    Robotics and Automation Solutions\n",
              "44                     Coconut based beverage franchise\n",
              "45                                      Bamboo Products\n",
              "46                                          Dog Hygiene\n",
              "47                                Liquid Water Enhancer\n",
              "48                                       Healthy Snacks\n",
              "49                                       Sneaker Resale\n",
              "50                                           EdTech App\n",
              "51                            Premium Surprise-Planning\n",
              "52                  Pothole Detection Software and Data\n",
              "53                                     Thin Crust Pizza\n",
              "54                                   Hemp Food Products\n",
              "55                                Electric Auto Vehicle\n",
              "56                                      Funeral Service\n",
              "57                                   Leather-free Shoes\n",
              "58                       Livestock health monitoring AI\n",
              "59     Customised Keto Diets for various medical issues\n",
              "60                                    LPG Cylinder lock\n",
              "61                                           Delicacies\n",
              "62                                   Comics & Animation\n",
              "63                                        Can Cocktails\n",
              "64                                  Sugar-Free Icecream\n",
              "65                                           Inventions\n",
              "66                                  Customised Apparels\n",
              "67                              Natural Hair Extensions\n",
              "68                     Toilet Spray with Essential Oils\n",
              "69                                                Meads\n",
              "70                                         Fresh Fruits\n",
              "71                              Ayurvedic Enriched Food\n",
              "72                                           Streetwear\n",
              "73                                   Motorcycle Luggage\n",
              "74                                                 Bags\n",
              "75                                                Gifts\n",
              "76                             Agricultural Innovations\n",
              "77                                       Homemade Foods\n",
              "78                                         Dog Products\n",
              "79                                  Portable ECG Device\n",
              "80                              Roasted Peanut Products\n",
              "81                                             Perfumes\n",
              "82                                     Automatic Cradle\n",
              "83                                          Handicrafts\n",
              "84                                      Coffee Products\n",
              "85                                  Ventilated PPE Kits\n",
              "86                                 Automation Solutions\n",
              "87                                  Insurance Solutions\n",
              "88                                Organic Milk Products\n",
              "89                                               Kunafa\n",
              "90                                Anti-Suicidal Fan Rod\n",
              "91                                   Jackfruit Products\n",
              "92                                Stainless Steel Items\n",
              "93                                   Streaming Platform\n",
              "94                            Portable Glass Attachment\n",
              "95                                      All-Kabaddi App\n",
              "96                                              Flowers\n",
              "97                                 Scholarship Platform\n",
              "98                    Handmade Reusable Scrap Materials\n",
              "99                                   Vegetables Storage\n",
              "100                              Ayurvedic Wellness App\n",
              "101                                         Smart Locks\n",
              "102                                  Proposal Solutions\n",
              "103           Technology layered Advertisement Services\n",
              "104                                         Rewards App\n",
              "105                          Portable opthalmic devices\n",
              "106                                             Insoles\n",
              "107                                Vegan Fermented Food\n",
              "108                                          Sportswear\n",
              "109                                                  VR\n",
              "110                                          Bacon Jams\n",
              "111                 Reversible and convertible clothing\n",
              "112                                 Plant-Based Protein\n",
              "113                              Fastest Cooking Device\n",
              "114                                            Lemonade\n",
              "115                                     Washroom Finder\n",
              "116                                Carenting for Elders\n",
              "Name: idea, dtype: object>"
            ]
          },
          "metadata": {},
          "execution_count": 22
        }
      ]
    },
    {
      "cell_type": "code",
      "source": [
        "df.drop('idea',axis=1,inplace=True)"
      ],
      "metadata": {
        "id": "Q-n9LOvZSZzj"
      },
      "execution_count": null,
      "outputs": []
    },
    {
      "cell_type": "code",
      "source": [
        "df.shape"
      ],
      "metadata": {
        "colab": {
          "base_uri": "https://localhost:8080/"
        },
        "id": "HyfhaR0HnmIw",
        "outputId": "2d793ae7-12c7-4c74-f3ec-57a5523e824f"
      },
      "execution_count": null,
      "outputs": [
        {
          "output_type": "execute_result",
          "data": {
            "text/plain": [
              "(117, 24)"
            ]
          },
          "metadata": {},
          "execution_count": 24
        }
      ]
    },
    {
      "cell_type": "code",
      "source": [
        "print(df.corr())"
      ],
      "metadata": {
        "colab": {
          "base_uri": "https://localhost:8080/"
        },
        "id": "hkzYBmOcnn9P",
        "outputId": "855cb202-b914-4c41-869f-04cc9746656b"
      },
      "execution_count": null,
      "outputs": [
        {
          "output_type": "stream",
          "name": "stdout",
          "text": [
            "                           deal  pitcher_ask_amount  ask_equity  \\\n",
            "deal                   1.000000           -0.106927   -0.076438   \n",
            "pitcher_ask_amount    -0.106927            1.000000    0.470198   \n",
            "ask_equity            -0.076438            0.470198    1.000000   \n",
            "ask_valuation         -0.151695            0.911174    0.260603   \n",
            "deal_amount            0.736002           -0.080719   -0.177955   \n",
            "deal_equity            0.609043           -0.067233    0.288341   \n",
            "deal_valuation         0.409138           -0.045988   -0.310331   \n",
            "ashneer_present       -0.020728            0.040759   -0.047404   \n",
            "anupam_present              NaN                 NaN         NaN   \n",
            "aman_present          -0.020728            0.040759   -0.047404   \n",
            "namita_present         0.065484            0.029396    0.030743   \n",
            "vineeta_present       -0.161874           -0.104309    0.068224   \n",
            "peyush_present         0.084100            0.052044   -0.065365   \n",
            "ghazal_present        -0.059761           -0.049727    0.035071   \n",
            "ashneer_deal           0.373509           -0.044099   -0.088782   \n",
            "anupam_deal            0.454369           -0.050348    0.013584   \n",
            "aman_deal              0.461369           -0.053685   -0.140932   \n",
            "namita_deal            0.430422           -0.045850    0.027449   \n",
            "vineeta_deal           0.342997           -0.036575    0.096837   \n",
            "peyush_deal            0.489898           -0.052946   -0.026575   \n",
            "ghazal_deal            0.225630           -0.024308    0.071451   \n",
            "total_sharks_invested  0.759342           -0.084288   -0.028387   \n",
            "amount_per_shark       0.653882           -0.071281   -0.165141   \n",
            "equity_per_shark       0.461046           -0.050873    0.238074   \n",
            "\n",
            "                       ask_valuation  deal_amount  deal_equity  \\\n",
            "deal                       -0.151695     0.736002     0.609043   \n",
            "pitcher_ask_amount          0.911174    -0.080719    -0.067233   \n",
            "ask_equity                  0.260603    -0.177955     0.288341   \n",
            "ask_valuation               1.000000    -0.090163    -0.155565   \n",
            "deal_amount                -0.090163     1.000000     0.370487   \n",
            "deal_equity                -0.155565     0.370487     1.000000   \n",
            "deal_valuation              0.017869     0.636411    -0.082694   \n",
            "ashneer_present             0.053817    -0.026851    -0.093570   \n",
            "anupam_present                   NaN          NaN          NaN   \n",
            "aman_present                0.053817    -0.026851    -0.093570   \n",
            "namita_present              0.042539     0.065587    -0.065976   \n",
            "vineeta_present            -0.032090    -0.082982     0.014315   \n",
            "peyush_present             -0.050228    -0.004062     0.088750   \n",
            "ghazal_present             -0.060577    -0.057153     0.062931   \n",
            "ashneer_deal               -0.052650     0.392853     0.127167   \n",
            "anupam_deal                -0.095488     0.335148     0.267897   \n",
            "aman_deal                  -0.085926     0.482279     0.150735   \n",
            "namita_deal                -0.075664     0.443929     0.136270   \n",
            "vineeta_deal               -0.068814     0.315109     0.359560   \n",
            "peyush_deal                -0.089131     0.384539     0.399927   \n",
            "ghazal_deal                -0.050633     0.188542     0.188478   \n",
            "total_sharks_invested      -0.140668     0.695950     0.432880   \n",
            "amount_per_shark           -0.066631     0.793392     0.359031   \n",
            "equity_per_shark           -0.118541     0.239212     0.897922   \n",
            "\n",
            "                       deal_valuation  ashneer_present  anupam_present  \\\n",
            "deal                         0.409138        -0.020728             NaN   \n",
            "pitcher_ask_amount          -0.045988         0.040759             NaN   \n",
            "ask_equity                  -0.310331        -0.047404             NaN   \n",
            "ask_valuation                0.017869         0.053817             NaN   \n",
            "deal_amount                  0.636411        -0.026851             NaN   \n",
            "deal_equity                 -0.082694        -0.093570             NaN   \n",
            "deal_valuation               1.000000         0.018973             NaN   \n",
            "ashneer_present              0.018973         1.000000             NaN   \n",
            "anupam_present                    NaN              NaN             NaN   \n",
            "aman_present                 0.018973         1.000000             NaN   \n",
            "namita_present               0.073284        -0.141843             NaN   \n",
            "vineeta_present              0.008492        -0.387059             NaN   \n",
            "peyush_present              -0.138948        -0.252768             NaN   \n",
            "ghazal_present              -0.082732        -0.823754             NaN   \n",
            "ashneer_deal                 0.206179         0.205939             NaN   \n",
            "anupam_deal                  0.219510        -0.005886             NaN   \n",
            "aman_deal                    0.360149         0.246972             NaN   \n",
            "namita_deal                  0.178616        -0.025346             NaN   \n",
            "vineeta_deal                -0.001066        -0.108422             NaN   \n",
            "peyush_deal                  0.138179        -0.143856             NaN   \n",
            "ghazal_deal                 -0.002742        -0.475201             NaN   \n",
            "total_sharks_invested        0.319298        -0.026656             NaN   \n",
            "amount_per_shark             0.581751        -0.049810             NaN   \n",
            "equity_per_shark            -0.080662        -0.102568             NaN   \n",
            "\n",
            "                       aman_present  namita_present  vineeta_present  \\\n",
            "deal                      -0.020728        0.065484        -0.161874   \n",
            "pitcher_ask_amount         0.040759        0.029396        -0.104309   \n",
            "ask_equity                -0.047404        0.030743         0.068224   \n",
            "ask_valuation              0.053817        0.042539        -0.032090   \n",
            "deal_amount               -0.026851        0.065587        -0.082982   \n",
            "deal_equity               -0.093570       -0.065976         0.014315   \n",
            "deal_valuation             0.018973        0.073284         0.008492   \n",
            "ashneer_present            1.000000       -0.141843        -0.387059   \n",
            "anupam_present                  NaN             NaN              NaN   \n",
            "aman_present               1.000000       -0.141843        -0.387059   \n",
            "namita_present            -0.141843        1.000000        -0.283176   \n",
            "vineeta_present           -0.387059       -0.283176         1.000000   \n",
            "peyush_present            -0.252768       -0.184927        -0.504627   \n",
            "ghazal_present            -0.823754        0.172191         0.469871   \n",
            "ashneer_deal               0.205939       -0.001957        -0.127833   \n",
            "anupam_deal               -0.005886        0.018596        -0.108356   \n",
            "aman_deal                  0.246972        0.043412        -0.234098   \n",
            "namita_deal               -0.025346        0.155022        -0.150433   \n",
            "vineeta_deal              -0.108422       -0.051660         0.337100   \n",
            "peyush_deal               -0.143856        0.037427        -0.254899   \n",
            "ghazal_deal               -0.475201        0.081264         0.221751   \n",
            "total_sharks_invested     -0.026656        0.073785        -0.137834   \n",
            "amount_per_shark          -0.049810        0.066861        -0.048368   \n",
            "equity_per_shark          -0.102568       -0.114103         0.028488   \n",
            "\n",
            "                       peyush_present  ghazal_present  ashneer_deal  \\\n",
            "deal                         0.084100       -0.059761      0.373509   \n",
            "pitcher_ask_amount           0.052044       -0.049727     -0.044099   \n",
            "ask_equity                  -0.065365        0.035071     -0.088782   \n",
            "ask_valuation               -0.050228       -0.060577     -0.052650   \n",
            "deal_amount                 -0.004062       -0.057153      0.392853   \n",
            "deal_equity                  0.088750        0.062931      0.127167   \n",
            "deal_valuation              -0.138948       -0.082732      0.206179   \n",
            "ashneer_present             -0.252768       -0.823754      0.205939   \n",
            "anupam_present                    NaN             NaN           NaN   \n",
            "aman_present                -0.252768       -0.823754      0.205939   \n",
            "namita_present              -0.184927        0.172191     -0.001957   \n",
            "vineeta_present             -0.504627        0.469871     -0.127833   \n",
            "peyush_present               1.000000        0.306848      0.010581   \n",
            "ghazal_present               0.306848        1.000000     -0.142857   \n",
            "ashneer_deal                 0.010581       -0.142857      1.000000   \n",
            "anupam_deal                  0.095532       -0.016971      0.203653   \n",
            "aman_deal                   -0.002776       -0.251628      0.311859   \n",
            "namita_deal                  0.073610        0.005846      0.116921   \n",
            "vineeta_deal                -0.194332        0.163984      0.220354   \n",
            "peyush_deal                  0.314426        0.048795      0.219578   \n",
            "ghazal_deal                  0.144814        0.471940     -0.024079   \n",
            "total_sharks_invested        0.122518        0.014639      0.573341   \n",
            "amount_per_shark            -0.037216       -0.049405      0.107673   \n",
            "equity_per_shark             0.083101        0.040184     -0.049699   \n",
            "\n",
            "                       anupam_deal  aman_deal  namita_deal  vineeta_deal  \\\n",
            "deal                      0.454369   0.461369     0.430422      0.342997   \n",
            "pitcher_ask_amount       -0.050348  -0.053685    -0.045850     -0.036575   \n",
            "ask_equity                0.013584  -0.140932     0.027449      0.096837   \n",
            "ask_valuation            -0.095488  -0.085926    -0.075664     -0.068814   \n",
            "deal_amount               0.335148   0.482279     0.443929      0.315109   \n",
            "deal_equity               0.267897   0.150735     0.136270      0.359560   \n",
            "deal_valuation            0.219510   0.360149     0.178616     -0.001066   \n",
            "ashneer_present          -0.005886   0.246972    -0.025346     -0.108422   \n",
            "anupam_present                 NaN        NaN          NaN           NaN   \n",
            "aman_present             -0.005886   0.246972    -0.025346     -0.108422   \n",
            "namita_present            0.018596   0.043412     0.155022     -0.051660   \n",
            "vineeta_present          -0.108356  -0.234098    -0.150433      0.337100   \n",
            "peyush_present            0.095532  -0.002776     0.073610     -0.194332   \n",
            "ghazal_present           -0.016971  -0.251628     0.005846      0.163984   \n",
            "ashneer_deal              0.203653   0.311859     0.116921      0.220354   \n",
            "anupam_deal               1.000000   0.211158     0.134733      0.185069   \n",
            "aman_deal                 0.211158   1.000000     0.294019      0.024582   \n",
            "namita_deal               0.134733   0.294019     1.000000      0.142601   \n",
            "vineeta_deal              0.185069   0.024582     0.142601      1.000000   \n",
            "peyush_deal               0.324617   0.120692     0.151757     -0.028006   \n",
            "ghazal_deal               0.139591  -0.141494     0.247520      0.442232   \n",
            "total_sharks_invested     0.609817   0.549698     0.559506      0.464893   \n",
            "amount_per_shark          0.088905   0.323914     0.232283      0.061331   \n",
            "equity_per_shark          0.063640   0.007305     0.024287      0.113549   \n",
            "\n",
            "                       peyush_deal  ghazal_deal  total_sharks_invested  \\\n",
            "deal                      0.489898     0.225630               0.759342   \n",
            "pitcher_ask_amount       -0.052946    -0.024308              -0.084288   \n",
            "ask_equity               -0.026575     0.071451              -0.028387   \n",
            "ask_valuation            -0.089131    -0.050633              -0.140668   \n",
            "deal_amount               0.384539     0.188542               0.695950   \n",
            "deal_equity               0.399927     0.188478               0.432880   \n",
            "deal_valuation            0.138179    -0.002742               0.319298   \n",
            "ashneer_present          -0.143856    -0.475201              -0.026656   \n",
            "anupam_present                 NaN          NaN                    NaN   \n",
            "aman_present             -0.143856    -0.475201              -0.026656   \n",
            "namita_present            0.037427     0.081264               0.073785   \n",
            "vineeta_present          -0.254899     0.221751              -0.137834   \n",
            "peyush_present            0.314426     0.144814               0.122518   \n",
            "ghazal_present            0.048795     0.471940               0.014639   \n",
            "ashneer_deal              0.219578    -0.024079               0.573341   \n",
            "anupam_deal               0.324617     0.139591               0.609817   \n",
            "aman_deal                 0.120692    -0.141494               0.549698   \n",
            "namita_deal               0.151757     0.247520               0.559506   \n",
            "vineeta_deal             -0.028006     0.442232               0.464893   \n",
            "peyush_deal               1.000000     0.203965               0.560000   \n",
            "ghazal_deal               0.203965     1.000000               0.394771   \n",
            "total_sharks_invested     0.560000     0.394771               1.000000   \n",
            "amount_per_shark          0.198726     0.004715               0.293030   \n",
            "equity_per_shark          0.311324     0.025510               0.138429   \n",
            "\n",
            "                       amount_per_shark  equity_per_shark  \n",
            "deal                           0.653882          0.461046  \n",
            "pitcher_ask_amount            -0.071281         -0.050873  \n",
            "ask_equity                    -0.165141          0.238074  \n",
            "ask_valuation                 -0.066631         -0.118541  \n",
            "deal_amount                    0.793392          0.239212  \n",
            "deal_equity                    0.359031          0.897922  \n",
            "deal_valuation                 0.581751         -0.080662  \n",
            "ashneer_present               -0.049810         -0.102568  \n",
            "anupam_present                      NaN               NaN  \n",
            "aman_present                  -0.049810         -0.102568  \n",
            "namita_present                 0.066861         -0.114103  \n",
            "vineeta_present               -0.048368          0.028488  \n",
            "peyush_present                -0.037216          0.083101  \n",
            "ghazal_present                -0.049405          0.040184  \n",
            "ashneer_deal                   0.107673         -0.049699  \n",
            "anupam_deal                    0.088905          0.063640  \n",
            "aman_deal                      0.323914          0.007305  \n",
            "namita_deal                    0.232283          0.024287  \n",
            "vineeta_deal                   0.061331          0.113549  \n",
            "peyush_deal                    0.198726          0.311324  \n",
            "ghazal_deal                    0.004715          0.025510  \n",
            "total_sharks_invested          0.293030          0.138429  \n",
            "amount_per_shark               1.000000          0.407074  \n",
            "equity_per_shark               0.407074          1.000000  \n"
          ]
        }
      ]
    },
    {
      "cell_type": "code",
      "source": [
        "\n",
        "# Copy all the predictor variables into X dataframe\n",
        "X = df.drop('deal', axis=1)\n",
        "y=df['deal']"
      ],
      "metadata": {
        "id": "dqvyh4RTnrbE"
      },
      "execution_count": null,
      "outputs": []
    },
    {
      "cell_type": "code",
      "source": [
        "from sklearn.model_selection import  train_test_split\n",
        "# Split X and y into training and test set in 65:35 ratio\n",
        "\n",
        "X_train, X_test, y_train, y_test = train_test_split(X, y, test_size=0.35 , random_state=10)"
      ],
      "metadata": {
        "id": "tt4ozei7oCZ2"
      },
      "execution_count": null,
      "outputs": []
    },
    {
      "cell_type": "code",
      "source": [
        "from sklearn.linear_model import LogisticRegression\n",
        "classifier = LogisticRegression(random_state = 0)\n",
        "classifier.fit(X_train, y_train)\n"
      ],
      "metadata": {
        "colab": {
          "base_uri": "https://localhost:8080/"
        },
        "id": "LT9-jRiWoW_y",
        "outputId": "bcc19b76-5edc-486d-f10e-dae57cf6e198"
      },
      "execution_count": null,
      "outputs": [
        {
          "output_type": "stream",
          "name": "stderr",
          "text": [
            "/usr/local/lib/python3.7/dist-packages/sklearn/linear_model/_logistic.py:818: ConvergenceWarning: lbfgs failed to converge (status=1):\n",
            "STOP: TOTAL NO. of ITERATIONS REACHED LIMIT.\n",
            "\n",
            "Increase the number of iterations (max_iter) or scale the data as shown in:\n",
            "    https://scikit-learn.org/stable/modules/preprocessing.html\n",
            "Please also refer to the documentation for alternative solver options:\n",
            "    https://scikit-learn.org/stable/modules/linear_model.html#logistic-regression\n",
            "  extra_warning_msg=_LOGISTIC_SOLVER_CONVERGENCE_MSG,\n"
          ]
        },
        {
          "output_type": "execute_result",
          "data": {
            "text/plain": [
              "LogisticRegression(random_state=0)"
            ]
          },
          "metadata": {},
          "execution_count": 28
        }
      ]
    },
    {
      "cell_type": "code",
      "source": [
        "y_pred = classifier.predict(X_test)"
      ],
      "metadata": {
        "id": "QvB4Vy5Wobdv"
      },
      "execution_count": null,
      "outputs": []
    },
    {
      "cell_type": "code",
      "source": [
        "from sklearn.metrics import classification_report, confusion_matrix\n",
        "cm = confusion_matrix(y_test, y_pred)\n",
        "print (\"Confusion Matrix : \\n\", cm)\n"
      ],
      "metadata": {
        "colab": {
          "base_uri": "https://localhost:8080/"
        },
        "id": "tTJA7VzcofjZ",
        "outputId": "425130e5-3732-4201-e814-9b8da39690fb"
      },
      "execution_count": null,
      "outputs": [
        {
          "output_type": "stream",
          "name": "stdout",
          "text": [
            "Confusion Matrix : \n",
            " [[16  0]\n",
            " [ 3 22]]\n"
          ]
        }
      ]
    },
    {
      "cell_type": "code",
      "source": [
        "print (classification_report(y_test, y_pred))"
      ],
      "metadata": {
        "colab": {
          "base_uri": "https://localhost:8080/"
        },
        "id": "cEZtgiRAoiRj",
        "outputId": "617d1d20-aeac-4568-92b8-cc5260cfee99"
      },
      "execution_count": null,
      "outputs": [
        {
          "output_type": "stream",
          "name": "stdout",
          "text": [
            "              precision    recall  f1-score   support\n",
            "\n",
            "           0       0.84      1.00      0.91        16\n",
            "           1       1.00      0.88      0.94        25\n",
            "\n",
            "    accuracy                           0.93        41\n",
            "   macro avg       0.92      0.94      0.93        41\n",
            "weighted avg       0.94      0.93      0.93        41\n",
            "\n"
          ]
        }
      ]
    },
    {
      "cell_type": "code",
      "source": [
        "from sklearn.metrics import classification_report, confusion_matrix\n",
        "cm = confusion_matrix(y_test, y_pred)\n",
        "print (\"Confusion Matrix : \\n\", cm)"
      ],
      "metadata": {
        "colab": {
          "base_uri": "https://localhost:8080/"
        },
        "id": "OybEbL2comx-",
        "outputId": "a701b6c1-12ea-4440-d74c-a73ae7979c72"
      },
      "execution_count": null,
      "outputs": [
        {
          "output_type": "stream",
          "name": "stdout",
          "text": [
            "Confusion Matrix : \n",
            " [[16  0]\n",
            " [ 3 22]]\n"
          ]
        }
      ]
    },
    {
      "cell_type": "code",
      "source": [
        "from sklearn.metrics import accuracy_score\n",
        "print (\"Accuracy : \", accuracy_score(y_test, y_pred))"
      ],
      "metadata": {
        "colab": {
          "base_uri": "https://localhost:8080/"
        },
        "id": "Tbxh2pxltv3B",
        "outputId": "d2d0cf2f-0957-4790-b6a2-5b144d904adf"
      },
      "execution_count": null,
      "outputs": [
        {
          "output_type": "stream",
          "name": "stdout",
          "text": [
            "Accuracy :  0.926829268292683\n"
          ]
        }
      ]
    },
    {
      "cell_type": "code",
      "source": [
        "# Import necessary modules\n",
        "from sklearn.neighbors import KNeighborsClassifier\n",
        "\n",
        "# Split into training and test set\n",
        "X_train, X_test, y_train, y_test = train_test_split(\n",
        "\t\t\tX, y, test_size = 0.2, random_state=42)\n",
        "\n",
        "knn = KNeighborsClassifier(n_neighbors=7)\n",
        "\n",
        "knn.fit(X_train, y_train)\n",
        "\n",
        "# Calculate the accuracy of the model\n",
        "print(knn.score(X_test, y_test))\n"
      ],
      "metadata": {
        "colab": {
          "base_uri": "https://localhost:8080/"
        },
        "id": "huvhpXQ3t1Sn",
        "outputId": "0a0cbd66-fbce-4a87-9972-c267971c2ebe"
      },
      "execution_count": null,
      "outputs": [
        {
          "output_type": "stream",
          "name": "stdout",
          "text": [
            "0.875\n"
          ]
        }
      ]
    },
    {
      "cell_type": "code",
      "source": [
        "from sklearn.tree import DecisionTreeClassifier\n",
        "# Splitting the dataset into train and test\n",
        "X_train, X_test, y_train, y_test = train_test_split(X, y, test_size = 0.3, random_state = 100)\n",
        "\n",
        "# Function to perform training with giniIndex.\n",
        "def train_using_gini(X_train, X_test, y_train):\n",
        "  \n",
        "    # Creating the classifier object\n",
        "    clf_gini = DecisionTreeClassifier(criterion = \"gini\",\n",
        "            random_state = 100,max_depth=3, min_samples_leaf=5)\n",
        "  \n",
        "    # Performing training\n",
        "    clf_gini.fit(X_train, y_train)\n",
        "    return clf_gini\n",
        "\n",
        "# Function to perform training with entropy.\n",
        "def tarin_using_entropy(X_train, X_test, y_train):\n",
        "  \n",
        "    # Decision tree with entropy\n",
        "    clf_entropy = DecisionTreeClassifier(\n",
        "            criterion = \"entropy\", random_state = 100,\n",
        "            max_depth = 3, min_samples_leaf = 5)\n",
        "  \n",
        "    # Performing training\n",
        "    clf_entropy.fit(X_train, y_train)\n",
        "    return clf_entropy\n",
        "\n",
        "# Function to make predictions\n",
        "def prediction(X_test, clf_object):\n",
        "  \n",
        "    # Predicton on test with giniIndex\n",
        "    y_pred = clf_object.predict(X_test)\n",
        "    print(\"Predicted values:\")\n",
        "    print(y_pred)\n",
        "    return y_pred\n",
        "\n",
        "# Function to calculate accuracy\n",
        "def cal_accuracy(y_test, y_pred):\n",
        "      \n",
        "    print(\"Confusion Matrix: \",\n",
        "        confusion_matrix(y_test, y_pred))\n",
        "      \n",
        "    print (\"Accuracy : \",\n",
        "    accuracy_score(y_test,y_pred)*100)\n",
        "      \n",
        "    print(\"Report : \",\n",
        "    classification_report(y_test, y_pred))        "
      ],
      "metadata": {
        "id": "7kLZhIy_uw1C"
      },
      "execution_count": null,
      "outputs": []
    },
    {
      "cell_type": "code",
      "source": [
        "clf_gini = train_using_gini(X_train, X_test, y_train)\n"
      ],
      "metadata": {
        "id": "p4LjDsMUwF6W"
      },
      "execution_count": null,
      "outputs": []
    },
    {
      "cell_type": "code",
      "source": [
        "clf_entropy = tarin_using_entropy(X_train, X_test, y_train)"
      ],
      "metadata": {
        "id": "z_HDLO0KwN_b"
      },
      "execution_count": null,
      "outputs": []
    },
    {
      "cell_type": "code",
      "source": [
        " # Operational Phase\n",
        "print(\"Results Using Gini Index:\")\n",
        "      \n",
        "# Prediction using gini\n",
        "y_pred_gini = prediction(X_test, clf_gini)\n",
        "cal_accuracy(y_test, y_pred_gini)"
      ],
      "metadata": {
        "colab": {
          "base_uri": "https://localhost:8080/"
        },
        "id": "kRr_lyX3wSlV",
        "outputId": "376fed9b-a2e1-4552-ce35-4872660023e3"
      },
      "execution_count": null,
      "outputs": [
        {
          "output_type": "stream",
          "name": "stdout",
          "text": [
            "Results Using Gini Index:\n",
            "Predicted values:\n",
            "[1 0 1 1 0 0 1 1 1 1 1 0 1 1 1 0 0 1 1 0 1 0 1 0 1 1 0 1 1 0 1 1 0 0 0 1]\n",
            "Confusion Matrix:  [[14  0]\n",
            " [ 0 22]]\n",
            "Accuracy :  100.0\n",
            "Report :                precision    recall  f1-score   support\n",
            "\n",
            "           0       1.00      1.00      1.00        14\n",
            "           1       1.00      1.00      1.00        22\n",
            "\n",
            "    accuracy                           1.00        36\n",
            "   macro avg       1.00      1.00      1.00        36\n",
            "weighted avg       1.00      1.00      1.00        36\n",
            "\n"
          ]
        }
      ]
    },
    {
      "cell_type": "code",
      "source": [
        "print(\"Results Using Entropy:\")\n",
        "# Prediction using entropy\n",
        "y_pred_entropy = prediction(X_test, clf_entropy)\n",
        "cal_accuracy(y_test, y_pred_entropy)"
      ],
      "metadata": {
        "colab": {
          "base_uri": "https://localhost:8080/"
        },
        "id": "QuPczl4TwfoP",
        "outputId": "b1345f7c-0418-4f69-88e1-27a7add95c2d"
      },
      "execution_count": null,
      "outputs": [
        {
          "output_type": "stream",
          "name": "stdout",
          "text": [
            "Results Using Entropy:\n",
            "Predicted values:\n",
            "[1 0 1 1 0 0 1 1 1 1 1 0 1 1 1 0 0 1 1 0 1 0 1 0 1 1 0 1 1 0 1 1 0 0 0 1]\n",
            "Confusion Matrix:  [[14  0]\n",
            " [ 0 22]]\n",
            "Accuracy :  100.0\n",
            "Report :                precision    recall  f1-score   support\n",
            "\n",
            "           0       1.00      1.00      1.00        14\n",
            "           1       1.00      1.00      1.00        22\n",
            "\n",
            "    accuracy                           1.00        36\n",
            "   macro avg       1.00      1.00      1.00        36\n",
            "weighted avg       1.00      1.00      1.00        36\n",
            "\n"
          ]
        }
      ]
    }
  ]
}